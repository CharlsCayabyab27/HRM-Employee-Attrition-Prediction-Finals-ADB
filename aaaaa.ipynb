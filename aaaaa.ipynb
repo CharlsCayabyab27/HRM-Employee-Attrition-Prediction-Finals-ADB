{
 "cells": [
  {
   "cell_type": "code",
   "execution_count": 1,
   "id": "1d78937d",
   "metadata": {
    "execution": {
     "iopub.execute_input": "2023-10-05T11:12:26.908162Z",
     "iopub.status.busy": "2023-10-05T11:12:26.907281Z",
     "iopub.status.idle": "2023-10-05T11:12:27.287308Z",
     "shell.execute_reply": "2023-10-05T11:12:27.286182Z"
    },
    "papermill": {
     "duration": 0.391543,
     "end_time": "2023-10-05T11:12:27.290308",
     "exception": false,
     "start_time": "2023-10-05T11:12:26.898765",
     "status": "completed"
    },
    "tags": []
   },
   "outputs": [
    {
     "name": "stdout",
     "output_type": "stream",
     "text": [
      "WARNING:tensorflow:From c:\\Users\\JHING\\Desktop\\ultra final\\venv\\Lib\\site-packages\\keras\\src\\losses.py:2976: The name tf.losses.sparse_softmax_cross_entropy is deprecated. Please use tf.compat.v1.losses.sparse_softmax_cross_entropy instead.\n",
      "\n"
     ]
    }
   ],
   "source": [
    "import joblib\n",
    "import pickle\n",
    "import base64\n",
    "import matplotlib.pyplot as plt\n",
    "import pandas as pd\n",
    "import warnings\n",
    "import numpy as np\n",
    "import tensorflow as tf\n",
    "from tensorflow.keras.callbacks import EarlyStopping, ModelCheckpoint\n",
    "from tensorflow.keras.models import Sequential\n",
    "from tensorflow.keras.models import load_model\n",
    "from tensorflow.keras.layers import Dense, Dropout\n",
    "from tensorflow.keras.optimizers import Adam\n",
    "from sklearn.preprocessing import OneHotEncoder, MinMaxScaler\n",
    "\n",
    "\n",
    "from sklearn.model_selection import train_test_split\n",
    "from sklearn.feature_extraction.text import CountVectorizer\n",
    "from sklearn.preprocessing import MinMaxScaler\n",
    "from sklearn.metrics import accuracy_score\n",
    "from imblearn.over_sampling import RandomOverSampler\n",
    "import matplotlib\n",
    "from sqlalchemy import create_engine\n",
    "import mysql.connector\n"
   ]
  },
  {
   "cell_type": "code",
   "execution_count": 2,
   "id": "075950c6",
   "metadata": {
    "execution": {
     "iopub.execute_input": "2023-10-05T11:12:27.303614Z",
     "iopub.status.busy": "2023-10-05T11:12:27.303109Z",
     "iopub.status.idle": "2023-10-05T11:12:27.369836Z",
     "shell.execute_reply": "2023-10-05T11:12:27.368335Z"
    },
    "papermill": {
     "duration": 0.076855,
     "end_time": "2023-10-05T11:12:27.373047",
     "exception": false,
     "start_time": "2023-10-05T11:12:27.296192",
     "status": "completed"
    },
    "tags": []
   },
   "outputs": [
    {
     "name": "stderr",
     "output_type": "stream",
     "text": [
      "C:\\Users\\JHING\\AppData\\Local\\Temp\\ipykernel_19892\\2691225427.py:12: UserWarning: pandas only supports SQLAlchemy connectable (engine/connection) or database string URI or sqlite3 DBAPI2 connection. Other DBAPI2 objects are not tested. Please consider using SQLAlchemy.\n",
      "  df = pd.read_sql_query(query, connection)\n"
     ]
    }
   ],
   "source": [
    "db_config = {\n",
    "    'host': 'localhost',\n",
    "    'user': 'root',\n",
    "    'password': 'root',\n",
    "    'database': 'aaa'\n",
    "}\n",
    "\n",
    "\n",
    "connection = mysql.connector.connect(**db_config)\n",
    "\n",
    "query = \"SELECT * FROM employee_attrition\"\n",
    "df = pd.read_sql_query(query, connection)"
   ]
  },
  {
   "cell_type": "code",
   "execution_count": 3,
   "id": "4d59ac45",
   "metadata": {
    "execution": {
     "iopub.execute_input": "2023-10-05T11:12:27.417933Z",
     "iopub.status.busy": "2023-10-05T11:12:27.417522Z",
     "iopub.status.idle": "2023-10-05T11:12:27.425176Z",
     "shell.execute_reply": "2023-10-05T11:12:27.423817Z"
    },
    "papermill": {
     "duration": 0.018006,
     "end_time": "2023-10-05T11:12:27.428258",
     "exception": false,
     "start_time": "2023-10-05T11:12:27.410252",
     "status": "completed"
    },
    "tags": []
   },
   "outputs": [
    {
     "data": {
      "text/plain": [
       "(5000, 13)"
      ]
     },
     "execution_count": 3,
     "metadata": {},
     "output_type": "execute_result"
    }
   ],
   "source": [
    "df.shape"
   ]
  },
  {
   "cell_type": "code",
   "execution_count": 4,
   "id": "96c04d74",
   "metadata": {
    "execution": {
     "iopub.execute_input": "2023-10-05T11:12:27.442229Z",
     "iopub.status.busy": "2023-10-05T11:12:27.441783Z",
     "iopub.status.idle": "2023-10-05T11:12:27.470854Z",
     "shell.execute_reply": "2023-10-05T11:12:27.469478Z"
    },
    "papermill": {
     "duration": 0.039882,
     "end_time": "2023-10-05T11:12:27.474275",
     "exception": false,
     "start_time": "2023-10-05T11:12:27.434393",
     "status": "completed"
    },
    "tags": []
   },
   "outputs": [
    {
     "name": "stdout",
     "output_type": "stream",
     "text": [
      "<class 'pandas.core.frame.DataFrame'>\n",
      "RangeIndex: 5000 entries, 0 to 4999\n",
      "Data columns (total 13 columns):\n",
      " #   Column                  Non-Null Count  Dtype  \n",
      "---  ------                  --------------  -----  \n",
      " 0   id                      5000 non-null   int64  \n",
      " 1   department              5000 non-null   object \n",
      " 2   employee_id             5000 non-null   int64  \n",
      " 3   age                     5000 non-null   int64  \n",
      " 4   age_when_joined         5000 non-null   int64  \n",
      " 5   years_in_the_company    5000 non-null   int64  \n",
      " 6   salary                  5000 non-null   float64\n",
      " 7   annual_bonus            5000 non-null   float64\n",
      " 8   prior_years_experience  5000 non-null   int64  \n",
      " 9   full_time               5000 non-null   float64\n",
      " 10  part_time               5000 non-null   float64\n",
      " 11  contractor              5000 non-null   float64\n",
      " 12  attrition               5000 non-null   int64  \n",
      "dtypes: float64(5), int64(7), object(1)\n",
      "memory usage: 507.9+ KB\n"
     ]
    }
   ],
   "source": [
    "df.info()"
   ]
  },
  {
   "cell_type": "code",
   "execution_count": 5,
   "id": "06a37872",
   "metadata": {
    "execution": {
     "iopub.execute_input": "2023-10-05T11:12:27.515497Z",
     "iopub.status.busy": "2023-10-05T11:12:27.514935Z",
     "iopub.status.idle": "2023-10-05T11:12:27.526956Z",
     "shell.execute_reply": "2023-10-05T11:12:27.525828Z"
    },
    "papermill": {
     "duration": 0.023478,
     "end_time": "2023-10-05T11:12:27.529727",
     "exception": false,
     "start_time": "2023-10-05T11:12:27.506249",
     "status": "completed"
    },
    "tags": []
   },
   "outputs": [],
   "source": [
    "df.drop_duplicates(inplace=True)"
   ]
  },
  {
   "cell_type": "code",
   "execution_count": 6,
   "id": "6dfa0995",
   "metadata": {},
   "outputs": [
    {
     "name": "stdout",
     "output_type": "stream",
     "text": [
      "pos_count: 207\n",
      "neg_count: 4793\n",
      "total: 5000\n"
     ]
    }
   ],
   "source": [
    "pos_count = len(df[df['attrition'] == 1])\n",
    "neg_count = len(df[df['attrition'] == 0])\n",
    "total_count = len(df['attrition'])\n",
    "\n",
    "pos_count_percentage = (pos_count / total_count) * 100\n",
    "neg_count_percentage = (neg_count / total_count) * 100\n",
    "print(f\"pos_count: {pos_count}\")\n",
    "print(f\"neg_count: {neg_count}\")\n",
    "print(f\"total: {total_count}\")\n"
   ]
  },
  {
   "cell_type": "code",
   "execution_count": 7,
   "id": "bca26e88",
   "metadata": {},
   "outputs": [
    {
     "data": {
      "text/plain": [
       "(-1.0999996318726954,\n",
       " 1.099999914454108,\n",
       " -1.1049574984284725,\n",
       " 1.204113142676508)"
      ]
     },
     "execution_count": 7,
     "metadata": {},
     "output_type": "execute_result"
    },
    {
     "data": {
      "image/png": "[encoded data removed]",
      "text/plain": [
       "<Figure size 600x600 with 1 Axes>"
      ]
     },
     "metadata": {},
     "output_type": "display_data"
    }
   ],
   "source": [
    "labels = ['pos_count', 'neg_count']\n",
    "sizes = [pos_count_percentage, neg_count_percentage]\n",
    "colors = ['#ff9999', '#66b3ff']\n",
    "explode = (0.1, 0)\n",
    "\n",
    "plt.figure(figsize=(6, 6))\n",
    "plt.pie(sizes, explode=explode, labels=labels, colors=colors, autopct='%1.1f%%', startangle=90)\n",
    "plt.title('Percentage of Positive Attrition to Negative Attrition')\n",
    "plt.axis('equal')"
   ]
  },
  {
   "cell_type": "code",
   "execution_count": 8,
   "id": "a1acb3aa",
   "metadata": {
    "execution": {
     "iopub.execute_input": "2023-10-05T11:12:27.543729Z",
     "iopub.status.busy": "2023-10-05T11:12:27.543290Z",
     "iopub.status.idle": "2023-10-05T11:12:27.835333Z",
     "shell.execute_reply": "2023-10-05T11:12:27.834419Z"
    },
    "papermill": {
     "duration": 0.302042,
     "end_time": "2023-10-05T11:12:27.837792",
     "exception": false,
     "start_time": "2023-10-05T11:12:27.535750",
     "status": "completed"
    },
    "tags": []
   },
   "outputs": [
    {
     "data": {
      "text/plain": [
       "<Axes: xlabel='employee_id'>"
      ]
     },
     "execution_count": 8,
     "metadata": {},
     "output_type": "execute_result"
    },
    {
     "data": {
      "image/png": "[encoded data removed]",
      "text/plain": [
       "<Figure size 640x480 with 1 Axes>"
      ]
     },
     "metadata": {},
     "output_type": "display_data"
    }
   ],
   "source": [
    "df['employee_id'].value_counts().plot.bar()"
   ]
  },
  {
   "cell_type": "markdown",
   "id": "d89a599e",
   "metadata": {
    "papermill": {
     "duration": 0.010612,
     "end_time": "2023-10-05T11:12:29.579463",
     "exception": false,
     "start_time": "2023-10-05T11:12:29.568851",
     "status": "completed"
    },
    "tags": []
   },
   "source": [
    "# Data PreProcessing"
   ]
  },
  {
   "cell_type": "markdown",
   "id": "94f9fda5",
   "metadata": {
    "papermill": {
     "duration": 0.010305,
     "end_time": "2023-10-05T11:12:33.730520",
     "exception": false,
     "start_time": "2023-10-05T11:12:33.720215",
     "status": "completed"
    },
    "tags": []
   },
   "source": [
    "1=Spam\n",
    "0=Ham"
   ]
  },
  {
   "cell_type": "markdown",
   "id": "2714a5ad",
   "metadata": {
    "papermill": {
     "duration": 0.020427,
     "end_time": "2023-10-05T11:12:36.765183",
     "exception": false,
     "start_time": "2023-10-05T11:12:36.744756",
     "status": "completed"
    },
    "tags": []
   },
   "source": [
    "# Vectorize Text"
   ]
  },
  {
   "cell_type": "code",
   "execution_count": 9,
   "id": "87e1a96b",
   "metadata": {
    "execution": {
     "iopub.execute_input": "2023-10-05T11:12:36.810244Z",
     "iopub.status.busy": "2023-10-05T11:12:36.809810Z",
     "iopub.status.idle": "2023-10-05T11:12:36.822576Z",
     "shell.execute_reply": "2023-10-05T11:12:36.821406Z"
    },
    "papermill": {
     "duration": 0.038576,
     "end_time": "2023-10-05T11:12:36.824792",
     "exception": false,
     "start_time": "2023-10-05T11:12:36.786216",
     "status": "completed"
    },
    "tags": []
   },
   "outputs": [
    {
     "data": {
      "text/html": [
       "<div>\n",
       "<style scoped>\n",
       "    .dataframe tbody tr th:only-of-type {\n",
       "        vertical-align: middle;\n",
       "    }\n",
       "\n",
       "    .dataframe tbody tr th {\n",
       "        vertical-align: top;\n",
       "    }\n",
       "\n",
       "    .dataframe thead th {\n",
       "        text-align: right;\n",
       "    }\n",
       "</style>\n",
       "<table border=\"1\" class=\"dataframe\">\n",
       "  <thead>\n",
       "    <tr style=\"text-align: right;\">\n",
       "      <th></th>\n",
       "      <th>id</th>\n",
       "      <th>department</th>\n",
       "      <th>employee_id</th>\n",
       "      <th>age</th>\n",
       "      <th>age_when_joined</th>\n",
       "      <th>years_in_the_company</th>\n",
       "      <th>salary</th>\n",
       "      <th>annual_bonus</th>\n",
       "      <th>prior_years_experience</th>\n",
       "      <th>full_time</th>\n",
       "      <th>part_time</th>\n",
       "      <th>contractor</th>\n",
       "      <th>attrition</th>\n",
       "    </tr>\n",
       "  </thead>\n",
       "  <tbody>\n",
       "    <tr>\n",
       "      <th>0</th>\n",
       "      <td>1</td>\n",
       "      <td>BigData</td>\n",
       "      <td>16</td>\n",
       "      <td>41</td>\n",
       "      <td>38</td>\n",
       "      <td>3</td>\n",
       "      <td>68074.97</td>\n",
       "      <td>17664.10</td>\n",
       "      <td>3</td>\n",
       "      <td>0.000000</td>\n",
       "      <td>0.000000</td>\n",
       "      <td>1.000000</td>\n",
       "      <td>0</td>\n",
       "    </tr>\n",
       "    <tr>\n",
       "      <th>1</th>\n",
       "      <td>2</td>\n",
       "      <td>AI</td>\n",
       "      <td>56</td>\n",
       "      <td>44</td>\n",
       "      <td>42</td>\n",
       "      <td>2</td>\n",
       "      <td>49092.15</td>\n",
       "      <td>21551.14</td>\n",
       "      <td>2</td>\n",
       "      <td>0.000000</td>\n",
       "      <td>0.184991</td>\n",
       "      <td>1.000000</td>\n",
       "      <td>0</td>\n",
       "    </tr>\n",
       "    <tr>\n",
       "      <th>2</th>\n",
       "      <td>3</td>\n",
       "      <td>Support</td>\n",
       "      <td>59</td>\n",
       "      <td>41</td>\n",
       "      <td>40</td>\n",
       "      <td>1</td>\n",
       "      <td>40000.00</td>\n",
       "      <td>23698.88</td>\n",
       "      <td>2</td>\n",
       "      <td>0.000000</td>\n",
       "      <td>0.919887</td>\n",
       "      <td>0.662706</td>\n",
       "      <td>0</td>\n",
       "    </tr>\n",
       "    <tr>\n",
       "      <th>3</th>\n",
       "      <td>4</td>\n",
       "      <td>Design</td>\n",
       "      <td>40</td>\n",
       "      <td>39</td>\n",
       "      <td>32</td>\n",
       "      <td>7</td>\n",
       "      <td>108192.47</td>\n",
       "      <td>21570.93</td>\n",
       "      <td>1</td>\n",
       "      <td>0.930396</td>\n",
       "      <td>0.546206</td>\n",
       "      <td>0.000000</td>\n",
       "      <td>0</td>\n",
       "    </tr>\n",
       "    <tr>\n",
       "      <th>4</th>\n",
       "      <td>5</td>\n",
       "      <td>Search Engine</td>\n",
       "      <td>47</td>\n",
       "      <td>30</td>\n",
       "      <td>22</td>\n",
       "      <td>9</td>\n",
       "      <td>71291.19</td>\n",
       "      <td>21565.51</td>\n",
       "      <td>2</td>\n",
       "      <td>0.525432</td>\n",
       "      <td>0.938412</td>\n",
       "      <td>0.000000</td>\n",
       "      <td>0</td>\n",
       "    </tr>\n",
       "  </tbody>\n",
       "</table>\n",
       "</div>"
      ],
      "text/plain": [
       "   id     department  employee_id  age  age_when_joined  years_in_the_company  \\\n",
       "0   1        BigData           16   41               38                     3   \n",
       "1   2             AI           56   44               42                     2   \n",
       "2   3        Support           59   41               40                     1   \n",
       "3   4         Design           40   39               32                     7   \n",
       "4   5  Search Engine           47   30               22                     9   \n",
       "\n",
       "      salary  annual_bonus  prior_years_experience  full_time  part_time  \\\n",
       "0   68074.97      17664.10                       3   0.000000   0.000000   \n",
       "1   49092.15      21551.14                       2   0.000000   0.184991   \n",
       "2   40000.00      23698.88                       2   0.000000   0.919887   \n",
       "3  108192.47      21570.93                       1   0.930396   0.546206   \n",
       "4   71291.19      21565.51                       2   0.525432   0.938412   \n",
       "\n",
       "   contractor  attrition  \n",
       "0    1.000000          0  \n",
       "1    1.000000          0  \n",
       "2    0.662706          0  \n",
       "3    0.000000          0  \n",
       "4    0.000000          0  "
      ]
     },
     "execution_count": 9,
     "metadata": {},
     "output_type": "execute_result"
    }
   ],
   "source": [
    "df.head()"
   ]
  },
  {
   "cell_type": "code",
   "execution_count": 10,
   "id": "1076e20b",
   "metadata": {},
   "outputs": [
    {
     "name": "stdout",
     "output_type": "stream",
     "text": [
      "DataFrame Columns: Index(['id', 'department', 'employee_id', 'age', 'age_when_joined',\n",
      "       'years_in_the_company', 'salary', 'annual_bonus',\n",
      "       'prior_years_experience', 'full_time', 'part_time', 'contractor',\n",
      "       'attrition'],\n",
      "      dtype='object')\n"
     ]
    }
   ],
   "source": [
    "print(\"DataFrame Columns:\", df.columns)\n"
   ]
  },
  {
   "cell_type": "markdown",
   "id": "b8e2eef6",
   "metadata": {},
   "source": [
    "# DATA SPLITTING"
   ]
  },
  {
   "cell_type": "code",
   "execution_count": 11,
   "id": "2b43cd57",
   "metadata": {
    "execution": {
     "iopub.execute_input": "2023-10-05T11:12:37.046431Z",
     "iopub.status.busy": "2023-10-05T11:12:37.044677Z",
     "iopub.status.idle": "2023-10-05T11:12:37.174902Z",
     "shell.execute_reply": "2023-10-05T11:12:37.173464Z"
    },
    "papermill": {
     "duration": 0.157109,
     "end_time": "2023-10-05T11:12:37.177450",
     "exception": false,
     "start_time": "2023-10-05T11:12:37.020341",
     "status": "completed"
    },
    "tags": []
   },
   "outputs": [],
   "source": [
    "encoder = OneHotEncoder()\n",
    "categorical_features = ['department', 'full_time', 'part_time', 'contractor']\n",
    "encoded_categorical = encoder.fit_transform(df[categorical_features]).toarray()\n",
    "encoded_categorical_df = pd.DataFrame(encoded_categorical, columns=encoder.get_feature_names_out())\n"
   ]
  },
  {
   "cell_type": "markdown",
   "id": "7e61e898",
   "metadata": {},
   "source": [
    "# RESAMPLING"
   ]
  },
  {
   "cell_type": "code",
   "execution_count": 12,
   "id": "a1196377",
   "metadata": {},
   "outputs": [],
   "source": [
    "numerical_features = ['age', 'age_when_joined', 'years_in_the_company', 'salary', 'annual_bonus', 'prior_years_experience']\n",
    "scaler = MinMaxScaler()\n",
    "df[numerical_features] = scaler.fit_transform(df[numerical_features])\n"
   ]
  },
  {
   "cell_type": "code",
   "execution_count": 13,
   "id": "df08c13e",
   "metadata": {},
   "outputs": [],
   "source": [
    "df_processed = pd.concat([df[numerical_features], encoded_categorical_df], axis=1)\n"
   ]
  },
  {
   "cell_type": "code",
   "execution_count": 14,
   "id": "6b4e0b00",
   "metadata": {},
   "outputs": [],
   "source": [
    "X = df_processed\n",
    "y = df['attrition']\n",
    "X_train, X_test, y_train, y_test = train_test_split(X, y, test_size=0.2, random_state=42)\n"
   ]
  },
  {
   "cell_type": "code",
   "execution_count": 15,
   "id": "c819053b",
   "metadata": {},
   "outputs": [],
   "source": [
    "ros = RandomOverSampler(random_state=42)\n",
    "X_train_resampled, y_train_resampled = ros.fit_resample(X_train, y_train)\n"
   ]
  },
  {
   "cell_type": "code",
   "execution_count": 16,
   "id": "aca54b16",
   "metadata": {},
   "outputs": [
    {
     "name": "stdout",
     "output_type": "stream",
     "text": [
      "WARNING:tensorflow:From c:\\Users\\JHING\\Desktop\\ultra final\\venv\\Lib\\site-packages\\keras\\src\\backend.py:873: The name tf.get_default_graph is deprecated. Please use tf.compat.v1.get_default_graph instead.\n",
      "\n"
     ]
    }
   ],
   "source": [
    "model = Sequential([\n",
    "    Dense(64, activation='relu', input_shape=(X_train_resampled.shape[1],)),\n",
    "    Dropout(0.5),\n",
    "    Dense(32, activation='relu'),\n",
    "    Dropout(0.3),\n",
    "    Dense(1, activation='sigmoid')\n",
    "])\n"
   ]
  },
  {
   "cell_type": "code",
   "execution_count": 17,
   "id": "94b627d4",
   "metadata": {},
   "outputs": [],
   "source": [
    "model.compile(optimizer=Adam(), loss='binary_crossentropy', metrics=['accuracy'])\n"
   ]
  },
  {
   "cell_type": "code",
   "execution_count": 18,
   "id": "f3319233",
   "metadata": {},
   "outputs": [
    {
     "name": "stdout",
     "output_type": "stream",
     "text": [
      "Epoch 1/20\n",
      "WARNING:tensorflow:From c:\\Users\\JHING\\Desktop\\ultra final\\venv\\Lib\\site-packages\\keras\\src\\utils\\tf_utils.py:492: The name tf.ragged.RaggedTensorValue is deprecated. Please use tf.compat.v1.ragged.RaggedTensorValue instead.\n",
      "\n",
      "WARNING:tensorflow:From c:\\Users\\JHING\\Desktop\\ultra final\\venv\\Lib\\site-packages\\keras\\src\\engine\\base_layer_utils.py:384: The name tf.executing_eagerly_outside_functions is deprecated. Please use tf.compat.v1.executing_eagerly_outside_functions instead.\n",
      "\n",
      "119/119 [==============================] - ETA: 0s - loss: 0.3286 - accuracy: 0.8884"
     ]
    },
    {
     "name": "stderr",
     "output_type": "stream",
     "text": [
      "c:\\Users\\JHING\\Desktop\\ultra final\\venv\\Lib\\site-packages\\keras\\src\\engine\\training.py:3103: UserWarning: You are saving your model as an HDF5 file via `model.save()`. This file format is considered legacy. We recommend using instead the native Keras format, e.g. `model.save('my_model.keras')`.\n",
      "  saving_api.save_model(\n"
     ]
    },
    {
     "name": "stdout",
     "output_type": "stream",
     "text": [
      "119/119 [==============================] - 19s 96ms/step - loss: 0.3286 - accuracy: 0.8884 - val_loss: 0.0913 - val_accuracy: 0.9620\n",
      "Epoch 2/20\n",
      "119/119 [==============================] - 8s 67ms/step - loss: 0.0552 - accuracy: 0.9880 - val_loss: 0.0441 - val_accuracy: 0.9810\n",
      "Epoch 3/20\n",
      "119/119 [==============================] - 7s 60ms/step - loss: 0.0287 - accuracy: 0.9934 - val_loss: 0.0300 - val_accuracy: 0.9900\n",
      "Epoch 4/20\n",
      "119/119 [==============================] - 9s 79ms/step - loss: 0.0207 - accuracy: 0.9960 - val_loss: 0.0219 - val_accuracy: 0.9920\n",
      "Epoch 5/20\n",
      "119/119 [==============================] - 8s 68ms/step - loss: 0.0142 - accuracy: 0.9971 - val_loss: 0.0210 - val_accuracy: 0.9910\n",
      "Epoch 6/20\n",
      "119/119 [==============================] - 8s 64ms/step - loss: 0.0105 - accuracy: 0.9980 - val_loss: 0.0196 - val_accuracy: 0.9930\n",
      "Epoch 7/20\n",
      "119/119 [==============================] - 7s 62ms/step - loss: 0.0094 - accuracy: 0.9980 - val_loss: 0.0127 - val_accuracy: 0.9960\n",
      "Epoch 8/20\n",
      "119/119 [==============================] - 8s 65ms/step - loss: 0.0080 - accuracy: 0.9982 - val_loss: 0.0134 - val_accuracy: 0.9950\n",
      "Epoch 9/20\n",
      "119/119 [==============================] - 6s 51ms/step - loss: 0.0075 - accuracy: 0.9983 - val_loss: 0.0090 - val_accuracy: 0.9970\n",
      "Epoch 10/20\n",
      "119/119 [==============================] - 6s 48ms/step - loss: 0.0056 - accuracy: 0.9988 - val_loss: 0.0097 - val_accuracy: 0.9960\n",
      "Epoch 11/20\n",
      "119/119 [==============================] - 6s 51ms/step - loss: 0.0051 - accuracy: 0.9988 - val_loss: 0.0059 - val_accuracy: 0.9990\n",
      "Epoch 12/20\n",
      "119/119 [==============================] - 6s 48ms/step - loss: 0.0043 - accuracy: 0.9990 - val_loss: 0.0051 - val_accuracy: 0.9990\n",
      "Epoch 13/20\n",
      "119/119 [==============================] - 6s 51ms/step - loss: 0.0043 - accuracy: 0.9986 - val_loss: 0.0046 - val_accuracy: 0.9990\n",
      "Epoch 14/20\n",
      "119/119 [==============================] - 6s 47ms/step - loss: 0.0042 - accuracy: 0.9990 - val_loss: 0.0035 - val_accuracy: 0.9990\n",
      "Epoch 15/20\n",
      "119/119 [==============================] - 6s 47ms/step - loss: 0.0035 - accuracy: 0.9991 - val_loss: 0.0069 - val_accuracy: 0.9970\n",
      "Epoch 16/20\n",
      "119/119 [==============================] - 7s 61ms/step - loss: 0.0026 - accuracy: 0.9995 - val_loss: 0.0018 - val_accuracy: 1.0000\n",
      "Epoch 17/20\n",
      "119/119 [==============================] - 8s 64ms/step - loss: 0.0020 - accuracy: 0.9997 - val_loss: 0.0015 - val_accuracy: 1.0000\n",
      "Epoch 18/20\n",
      "119/119 [==============================] - 7s 63ms/step - loss: 0.0021 - accuracy: 0.9996 - val_loss: 0.0013 - val_accuracy: 1.0000\n",
      "Epoch 19/20\n",
      "119/119 [==============================] - 7s 59ms/step - loss: 0.0018 - accuracy: 0.9996 - val_loss: 0.0010 - val_accuracy: 1.0000\n",
      "Epoch 20/20\n",
      "119/119 [==============================] - 7s 57ms/step - loss: 0.0015 - accuracy: 0.9996 - val_loss: 9.6609e-04 - val_accuracy: 1.0000\n"
     ]
    }
   ],
   "source": [
    "early_stopping = EarlyStopping(monitor='val_loss', patience=10)\n",
    "model_checkpoint = ModelCheckpoint('model.h5', save_best_only=True)\n",
    "\n",
    "history = model.fit(X_train_resampled, y_train_resampled, epochs=20, batch_size=65,\n",
    "                    validation_data=(X_test, y_test), callbacks=[early_stopping, model_checkpoint])\n"
   ]
  },
  {
   "cell_type": "code",
   "execution_count": 19,
   "id": "1e52fccd",
   "metadata": {},
   "outputs": [
    {
     "name": "stdout",
     "output_type": "stream",
     "text": [
      "32/32 [==============================] - 1s 16ms/step - loss: 9.6609e-04 - accuracy: 1.0000\n"
     ]
    },
    {
     "data": {
      "text/plain": [
       "[0.000966086401604116, 1.0]"
      ]
     },
     "execution_count": 19,
     "metadata": {},
     "output_type": "execute_result"
    }
   ],
   "source": [
    "model.evaluate(X_test, y_test)\n"
   ]
  },
  {
   "cell_type": "markdown",
   "id": "867eca98",
   "metadata": {},
   "source": []
  },
  {
   "cell_type": "markdown",
   "id": "a06e4e99",
   "metadata": {},
   "source": []
  },
  {
   "cell_type": "markdown",
   "metadata": {},
   "source": []
  },
  {
   "cell_type": "code",
   "execution_count": 20,
   "id": "09d442ec",
   "metadata": {},
   "outputs": [],
   "source": [
    "with open('training_history.pkl', 'wb') as file:\n",
    "    pickle.dump(history.history, file)\n"
   ]
  }
 ],
 "metadata": {
  "kernelspec": {
   "display_name": "Python 3",
   "language": "python",
   "name": "python3"
  },
  "language_info": {
   "codemirror_mode": {
    "name": "ipython",
    "version": 3
   },
   "file_extension": ".py",
   "mimetype": "text/x-python",
   "name": "python",
   "nbconvert_exporter": "python",
   "pygments_lexer": "ipython3",
   "version": "3.11.3"
  },
  "papermill": {
   "default_parameters": {},
   "duration": 16.820316,
   "end_time": "2023-10-05T11:12:40.386200",
   "environment_variables": {},
   "exception": null,
   "input_path": "__notebook__.ipynb",
   "output_path": "__notebook__.ipynb",
   "parameters": {},
   "start_time": "2023-10-05T11:12:23.565884",
   "version": "2.4.0"
  }
 },
 "nbformat": 4,
 "nbformat_minor": 5
}
